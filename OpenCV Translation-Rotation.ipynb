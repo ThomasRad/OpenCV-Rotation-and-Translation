{
 "cells": [
  {
   "cell_type": "markdown",
   "metadata": {},
   "source": [
    "## Following Along YouTube Tutorial"
   ]
  },
  {
   "cell_type": "markdown",
   "metadata": {},
   "source": [
    "### Create functions for image translation and rotation"
   ]
  },
  {
   "cell_type": "code",
   "execution_count": 1,
   "metadata": {},
   "outputs": [],
   "source": [
    "# Import Packages\n",
    "\n",
    "import cv2 as cv\n",
    "import numpy as np\n",
    "\n",
    "\n",
    "# Read the image \n",
    "\n",
    "img = cv.imread('/Users/tradk/dogs-vs-cats/train/cat.1.jpg')"
   ]
  },
  {
   "cell_type": "code",
   "execution_count": 2,
   "metadata": {},
   "outputs": [],
   "source": [
    "# Create a function which will translate our image. \n",
    "\n",
    "def translate(img, x, y):\n",
    "    transmatrix = np.float32([[1,0,x],[0,1,y]])\n",
    "    dims = (img.shape[1],img.shape[0])\n",
    "    return cv.warpAffine(img, transmatrix, dims)"
   ]
  },
  {
   "cell_type": "code",
   "execution_count": 3,
   "metadata": {},
   "outputs": [
    {
     "data": {
      "text/plain": [
       "-1"
      ]
     },
     "execution_count": 3,
     "metadata": {},
     "output_type": "execute_result"
    }
   ],
   "source": [
    "# Use our function on the image. \n",
    "\n",
    "translated_img = translate(img, 100, 100)\n",
    "cv.imshow('Translated image', translated_img)\n",
    "cv.imshow('Cat',img)\n",
    "\n",
    "cv.waitKey(0)"
   ]
  },
  {
   "cell_type": "code",
   "execution_count": 4,
   "metadata": {},
   "outputs": [],
   "source": [
    "# Create a function for image rotation. \n",
    "\n",
    "def rotate(img, angle, rotation_point = None):\n",
    "    (height,width) = img.shape[:2]\n",
    "    \n",
    "    if rotation_point is None: \n",
    "        rotation_point = (width//2, height//2)\n",
    "    \n",
    "    rotation_matrix = cv.getRotationMatrix2D(rotation_point,angle, 1.0)\n",
    "    dim = (width , height)\n",
    "    \n",
    "    return cv.warpAffine(img, rotation_matrix, dim)"
   ]
  },
  {
   "cell_type": "code",
   "execution_count": 5,
   "metadata": {},
   "outputs": [
    {
     "data": {
      "text/plain": [
       "-1"
      ]
     },
     "execution_count": 5,
     "metadata": {},
     "output_type": "execute_result"
    }
   ],
   "source": [
    "# Display our images. \n",
    "\n",
    "rotated_img = rotate(img, 45)\n",
    "\n",
    "#Rotated and org image\n",
    "cv.imshow('Rotated image', rotated_img)\n",
    "cv.imshow('Cat',img)\n",
    "\n",
    "cv.waitKey(0)"
   ]
  },
  {
   "cell_type": "code",
   "execution_count": null,
   "metadata": {},
   "outputs": [],
   "source": []
  }
 ],
 "metadata": {
  "kernelspec": {
   "display_name": "Python 3",
   "language": "python",
   "name": "python3"
  },
  "language_info": {
   "codemirror_mode": {
    "name": "ipython",
    "version": 3
   },
   "file_extension": ".py",
   "mimetype": "text/x-python",
   "name": "python",
   "nbconvert_exporter": "python",
   "pygments_lexer": "ipython3",
   "version": "3.7.6"
  }
 },
 "nbformat": 4,
 "nbformat_minor": 4
}
